{
 "cells": [
  {
   "cell_type": "code",
   "execution_count": 3,
   "metadata": {
    "collapsed": true
   },
   "outputs": [],
   "source": [
    "import numpy as np\n",
    "import sklearn\n",
    "from sklearn import datasets\n",
    "from sklearn.cross_validation import train_test_split\n",
    "import matplotlib.pyplot as plt"
   ]
  },
  {
   "cell_type": "code",
   "execution_count": 17,
   "metadata": {
    "collapsed": true
   },
   "outputs": [],
   "source": [
    "class KdTree(object):\n",
    "    \"\"\"docstring\"\"\"\n",
    " \n",
    "    class KdNode(object):\n",
    "        \"\"\"docstring\"\"\"\n",
    "    \n",
    "        def __init__(self, bounding):\n",
    "            \"\"\"Constructor\"\"\"\n",
    "            self.left = None\n",
    "            self.right = None\n",
    "            self.bounding = bounding\n",
    "            self.points = []\n",
    "\n",
    "            \n",
    "        def add_left_child(self, l):\n",
    "            self.left = l\n",
    "            \n",
    "        def add_right_child(self, r):\n",
    "            self.right = r\n",
    "            \n",
    "        def add_points(self, p):\n",
    "            self.points.append(p[:])\n",
    "            \n",
    "        def out(self):\n",
    "            if (self.left is None) & (self.right is None):\n",
    "                print 'leave'\n",
    "                print self.bounding\n",
    "                print self.points\n",
    "                return\n",
    "            if self.left is not None:\n",
    "                self.left.out()\n",
    "            if self.right is not None:\n",
    "                self.right.out()\n",
    "\n",
    "    def __init__(self, points, max_in_leaf = 4):\n",
    "        \"\"\"Constructor\"\"\"\n",
    "        points = np.array(points).reshape(len(points), -1)\n",
    "        self.k = points.shape[1]\n",
    "        self.max_in_leaf = max_in_leaf\n",
    "        bounds = []\n",
    "        for i in range (0, self.k):\n",
    "            bounds.append(np.amin(points[:, i]))\n",
    "            bounds.append(np.amax(points[:, i]))\n",
    "        self.root = self.KdNode(bounds)\n",
    "        self.root = self.add_children(self.root, points, 0)\n",
    "        \n",
    "    def compare(self, item1, item2, index):\n",
    "        if item2[index] == item1[index]:\n",
    "            return 0\n",
    "        if item1[index] < item2[index]:\n",
    "            return 1\n",
    "        return -1\n",
    "        \n",
    "    def add_children(self, node, points, axis):\n",
    "        if len(points) <= self.max_in_leaf:\n",
    "            node.add_points(points)\n",
    "            return node\n",
    "            \n",
    "        else:\n",
    "            points = np.array(sorted(points, cmp = lambda x, y: self.compare(x, y, axis)))\n",
    "            middle = len(points) / 2\n",
    "            bounds_left = []\n",
    "            bounds_right = []\n",
    "            for i in range (0, self.k):\n",
    "                bounds_left.append(np.amin(points[:middle, i]))\n",
    "                bounds_left.append(np.amax(points[:middle, i]))\n",
    "                bounds_right.append(np.amin(points[middle:, i]))\n",
    "                bounds_right.append(np.amax(points[middle:, i]))\n",
    "\n",
    "            left = self.KdNode(bounds_left)\n",
    "            right = self.KdNode(bounds_right)\n",
    "            \n",
    "            if axis >= points.shape[1] - 1:\n",
    "                axis = 0\n",
    "            else:\n",
    "                axis = axis + 1\n",
    "            left = self.add_children(left, points[:middle], axis)\n",
    "            right = self.add_children(right, points[middle:], axis)\n",
    "            node.add_left_child(left)\n",
    "            node.add_right_child(right)\n",
    "            return node\n",
    "        \n",
    "    def out(self):\n",
    "        self.root.out()"
   ]
  },
  {
   "cell_type": "code",
   "execution_count": 16,
   "metadata": {},
   "outputs": [
    {
     "name": "stdout",
     "output_type": "stream",
     "text": [
      "35\n",
      "0\n",
      "1\n"
     ]
    }
   ],
   "source": [
    "arr = np.array([[44, 99], [21, 88], [32, 54], [77, 35]])\n",
    "print np.amin(arr[:, 1])\n",
    "for i in range (0, 2):\n",
    "    print i"
   ]
  },
  {
   "cell_type": "code",
   "execution_count": 18,
   "metadata": {},
   "outputs": [
    {
     "name": "stdout",
     "output_type": "stream",
     "text": [
      "leave\n",
      "[0.8688996478502965, 0.8690967000750105, 0.070235073943223453, 0.47820448794277048]\n",
      "[array([[ 0.8690967 ,  0.07023507],\n",
      "       [ 0.86889965,  0.47820449]])]\n",
      "leave\n",
      "[0.1873017823640177, 0.65466019126717023, 0.5507193716733465, 0.92299785276895963]\n",
      "[array([[ 0.65466019,  0.5935379 ],\n",
      "       [ 0.36198131,  0.92299785],\n",
      "       [ 0.18730178,  0.55071937]])]\n",
      "leave\n",
      "[0.79977606113754229, 0.97220726970308957, -0.51050548262995088, -0.022903534437478189]\n",
      "[array([[ 0.97220727, -0.02290353],\n",
      "       [ 0.79977606, -0.51050548]])]\n",
      "leave\n",
      "[0.16518163497807753, 0.65778182707055799, -1.1379016650672573, -0.53460996824906526]\n",
      "[array([[ 0.65778183, -0.53460997],\n",
      "       [ 0.23036904, -1.13790167],\n",
      "       [ 0.16518163, -0.90847803]])]\n",
      "leave\n",
      "[-0.34613832560947239, -0.15528174118518448, 0.62364391891105975, 1.0634551822635046]\n",
      "[array([[-0.15528174,  1.06345518],\n",
      "       [-0.34613833,  0.62364392]])]\n",
      "leave\n",
      "[-0.85491314484694125, -0.65145091431136326, 0.16528975336424531, 0.60514670177427399]\n",
      "[array([[-0.65145091,  0.49937882],\n",
      "       [-0.70391643,  0.16528975],\n",
      "       [-0.85491314,  0.6051467 ]])]\n",
      "leave\n",
      "[-0.14917850980143565, 0.024046119145178763, -1.1688710984188426, -0.73892590470928676]\n",
      "[array([[ 0.02404612, -0.7389259 ],\n",
      "       [-0.14917851, -1.1688711 ]])]\n",
      "leave\n",
      "[-0.94457559932605362, -0.63101409029414024, -0.50737780531272136, -0.14620449349237583]\n",
      "[array([[-0.63101409, -0.37120132],\n",
      "       [-0.88942288, -0.50737781],\n",
      "       [-0.9445756 , -0.14620449]])]\n"
     ]
    }
   ],
   "source": [
    "points_num = 20\n",
    "noise_value = 0.09\n",
    "x, y = sklearn.datasets.make_circles(points_num, noise = noise_value)\n",
    "x_red = np.array(x[y == 0])\n",
    "y_red = np.array(y[y == 0])\n",
    "x_green = np.array(x[y == 1])\n",
    "y_green = np.array(y[y == 1])\n",
    "tree = KdTree(x)\n",
    "tree.out()"
   ]
  },
  {
   "cell_type": "code",
   "execution_count": 15,
   "metadata": {},
   "outputs": [
    {
     "data": {
      "image/png": "[encoded data removed]",
      "text/plain": [
       "<matplotlib.figure.Figure at 0xd666e10>"
      ]
     },
     "metadata": {},
     "output_type": "display_data"
    }
   ],
   "source": [
    "plt.scatter(x_red[:, 0], x_red[:, 1], c = 'red', s = 5, alpha = 0.8)\n",
    "plt.scatter(x_green[:, 0], x_green[:, 1], c = 'green', s = 5, alpha = 0.8)\n",
    "plt.show()  "
   ]
  },
  {
   "cell_type": "code",
   "execution_count": 27,
   "metadata": {
    "collapsed": true
   },
   "outputs": [],
   "source": [
    "x_train, x_test, y_train, y_test = train_test_split(x, y, test_size = 0.3)"
   ]
  },
  {
   "cell_type": "markdown",
   "metadata": {},
   "source": [
    "1. Каким способом разделять пространство?\n",
    "2. До какого момента делить пространство?\n",
    "3. Поддерживает ли дерево добавление/удаление точек?\n",
    "4. \"попробуйте разные k\" ? (точки же двумерные)"
   ]
  }
 ],
 "metadata": {
  "kernelspec": {
   "display_name": "Python 2",
   "language": "python",
   "name": "python2"
  },
  "language_info": {
   "codemirror_mode": {
    "name": "ipython",
    "version": 2
   },
   "file_extension": ".py",
   "mimetype": "text/x-python",
   "name": "python",
   "nbconvert_exporter": "python",
   "pygments_lexer": "ipython2",
   "version": "2.7.14"
  }
 },
 "nbformat": 4,
 "nbformat_minor": 2
}
