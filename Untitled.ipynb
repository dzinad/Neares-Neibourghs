{
 "cells": [
  {
   "cell_type": "code",
   "execution_count": 106,
   "metadata": {
    "collapsed": true
   },
   "outputs": [],
   "source": [
    "import numpy as np\n",
    "from numpy import linalg as la\n",
    "import sklearn\n",
    "from sklearn import datasets\n",
    "from sklearn.cross_validation import train_test_split\n",
    "import matplotlib.pyplot as plt\n",
    "import matplotlib.patches as patches"
   ]
  },
  {
   "cell_type": "code",
   "execution_count": 148,
   "metadata": {},
   "outputs": [],
   "source": [
    "class KdTree(object):\n",
    "    \"\"\"docstring\"\"\"\n",
    " \n",
    "    class KdNode(object):\n",
    "        \"\"\"docstring\"\"\"\n",
    "    \n",
    "        def __init__(self, bounding):\n",
    "            \"\"\"Constructor\"\"\"\n",
    "            self.left = None\n",
    "            self.right = None\n",
    "            self.bounding = bounding\n",
    "            self.is_leaf = False\n",
    "            self.points = []\n",
    "\n",
    "            \n",
    "        def add_left_child(self, l):\n",
    "            self.left = l\n",
    "            \n",
    "        def add_right_child(self, r):\n",
    "            self.right = r\n",
    "            \n",
    "        def add_points(self, p):\n",
    "            self.is_leaf = True\n",
    "            self.points = np.array(p).reshape(len(p), -1)\n",
    "            \n",
    "        def graph(self, fig):\n",
    "            if self.is_leaf:\n",
    "                ax2 = fig.add_subplot(111, aspect='equal')\n",
    "                ax2.add_patch(\n",
    "                    patches.Rectangle(\n",
    "                        (self.bounding[0], self.bounding[2]),\n",
    "                        self.bounding[1] - self.bounding[0],\n",
    "                        self.bounding[3] - self.bounding[2],\n",
    "                        fill = False\n",
    "                    )\n",
    "                )\n",
    "                return\n",
    "            if self.left is not None:\n",
    "                self.left.graph(fig)\n",
    "            if self.right is not None:\n",
    "                self.right.graph(fig)\n",
    "            \n",
    "        def out(self):\n",
    "            if (self.left is None) & (self.right is None):\n",
    "                print 'leave'\n",
    "                print self.bounding\n",
    "                print self.points\n",
    "                return\n",
    "            if self.left is not None:\n",
    "                print self.left.out()\n",
    "            if self.right is not None:\n",
    "                print self.right.out()\n",
    "\n",
    "    def __init__(self, points, max_in_leaf = 8):\n",
    "        \"\"\"Constructor\"\"\"\n",
    "        points = np.array(points).reshape(len(points), -1)\n",
    "        self.k = points.shape[1]\n",
    "        self.max_in_leaf = max_in_leaf\n",
    "        bounds = []\n",
    "        for i in range (0, self.k):\n",
    "            bounds.append(np.amin(points[:, i]))\n",
    "            bounds.append(np.amax(points[:, i]))\n",
    "        self.root = self.KdNode(bounds)\n",
    "        self.root = self.add_children(self.root, points, 0)\n",
    "        \n",
    "    def compare(self, item1, item2, index):\n",
    "        if item2[index] == item1[index]:\n",
    "            return 0\n",
    "        if item1[index] < item2[index]:\n",
    "            return -1\n",
    "        return 1\n",
    "        \n",
    "    def add_children(self, node, points, axis):\n",
    "        if len(points) <= self.max_in_leaf:\n",
    "            node.add_points(points)\n",
    "            return node\n",
    "            \n",
    "        else:\n",
    "            points = np.array(sorted(points, cmp = lambda x, y: self.compare(x, y, axis)))\n",
    "            middle = len(points) / 2\n",
    "            bounds_left = []\n",
    "            bounds_right = []\n",
    "            for i in range (0, self.k):\n",
    "                bounds_left.append(np.amin(points[:middle, i]))\n",
    "                bounds_left.append(np.amax(points[:middle, i]))\n",
    "                bounds_right.append(np.amin(points[middle:, i]))\n",
    "                bounds_right.append(np.amax(points[middle:, i]))\n",
    "\n",
    "            left = self.KdNode(bounds_left)\n",
    "            right = self.KdNode(bounds_right)\n",
    "            \n",
    "            if axis >= points.shape[1] - 1:\n",
    "                axis = 0\n",
    "            else:\n",
    "                axis = axis + 1\n",
    "            left = self.add_children(left, points[:middle], axis)\n",
    "            right = self.add_children(right, points[middle:], axis)\n",
    "            node.add_left_child(left)\n",
    "            node.add_right_child(right)\n",
    "            return node\n",
    "        \n",
    "    def find_NN(self, point):\n",
    "        cur_node = self.root\n",
    "        axis = 0\n",
    "        while cur_node.is_leaf == False:\n",
    "            print (cur_node.left.bounding[2 * axis + 1], point[axis])\n",
    "            print (cur_node.right.bounding[2 * axis], point[axis])\n",
    "            if cur_node.left.bounding[2 * axis + 1] >= point[axis]:\n",
    "                cur_node = cur_node.left\n",
    "            elif cur_node.right.bounding[2 * axis] <= point[axis]:\n",
    "                cur_node = cur_node.right\n",
    "            else:\n",
    "                return\n",
    "            if axis >= self.k - 1:\n",
    "                axis = 0\n",
    "            else:\n",
    "                axis = axis + 1\n",
    "                \n",
    "        #cur_node - искомый лист\n",
    "        cur_node.out()\n",
    "        self.min_dist = -1\n",
    "        self.NN = None\n",
    "        cur_dist = -1\n",
    "        for i in range (0, cur_node.points.shape[0]):\n",
    "            cur_dist = la.norm(point - cur_node.points[i])\n",
    "            print ('cur_dist', cur_dist)\n",
    "            if cur_dist == 0:\n",
    "                continue\n",
    "            if (self.min_dist == -1) | (self.min_dist > cur_dist):\n",
    "                self.min_dist = cur_dist\n",
    "                self.NN = cur_node.points[i]\n",
    "        \n",
    "        print \"NN:\"\n",
    "        print self.NN\n",
    "        \n",
    "    def graph(self):\n",
    "        fig = plt.figure()\n",
    "        self.root.graph(fig)\n",
    "        \n",
    "    def out(self):\n",
    "        self.root.out()"
   ]
  },
  {
   "cell_type": "code",
   "execution_count": 110,
   "metadata": {},
   "outputs": [
    {
     "name": "stdout",
     "output_type": "stream",
     "text": [
      "35\n",
      "0\n",
      "1\n"
     ]
    },
    {
     "data": {
      "image/png": "[encoded data removed]",
      "text/plain": [
       "<matplotlib.figure.Figure at 0xc8960b8>"
      ]
     },
     "metadata": {},
     "output_type": "display_data"
    }
   ],
   "source": [
    "arr = np.array([[44, 99], [21, 88], [32, 54], [77, 35]])\n",
    "print np.amin(arr[:, 1])\n",
    "for i in range (0, 2):\n",
    "    print i\n",
    "\n",
    "fig2 = plt.figure()\n",
    "ax2 = fig2.add_subplot(111, aspect='equal')\n",
    "ax2.add_patch(\n",
    "    patches.Rectangle(\n",
    "        (0.1, 0.1),\n",
    "        0.5,\n",
    "        0.5,\n",
    "        fill=False      # remove background\n",
    "    )\n",
    ")\n",
    "plt.show();"
   ]
  },
  {
   "cell_type": "code",
   "execution_count": 149,
   "metadata": {},
   "outputs": [
    {
     "name": "stdout",
     "output_type": "stream",
     "text": [
      "[-0.5461132   0.65635189]\n",
      "(0.031688741600144336, -0.54611320462771318)\n",
      "(0.039858269288448087, -0.54611320462771318)\n",
      "(-0.24207091335303149, 0.65635188977978598)\n",
      "(-0.001145010460684881, 0.65635188977978598)\n",
      "(-0.70145268691632157, -0.54611320462771318)\n",
      "(-0.54611320462771318, -0.54611320462771318)\n",
      "leave\n",
      "[-0.54611320462771318, -0.23901430321763156, 0.50987034429945022, 0.98903623980609923]\n",
      "[[-0.5461132   0.65635189]\n",
      " [-0.48249272  0.78516035]\n",
      " [-0.47284709  0.61693283]\n",
      " [-0.44911579  0.50987034]\n",
      " [-0.36723871  0.98903624]\n",
      " [-0.26645425  0.79017695]\n",
      " [-0.2390143   0.91528266]]\n",
      "('cur_dist', 0.0)\n",
      "('cur_dist', 0.14366344357420394)\n",
      "('cur_dist', 0.08319727151344225)\n",
      "('cur_dist', 0.17568534921783696)\n",
      "('cur_dist', 0.37772339404875993)\n",
      "('cur_dist', 0.31002948139341452)\n",
      "('cur_dist', 0.40169002981780982)\n",
      "NN:\n",
      "[-0.47284709  0.61693283]\n"
     ]
    }
   ],
   "source": [
    "points_num = 50\n",
    "noise_value = 0.09\n",
    "x, y = sklearn.datasets.make_circles(points_num, noise = noise_value)\n",
    "x_red = np.array(x[y == 0])\n",
    "y_red = np.array(y[y == 0])\n",
    "x_green = np.array(x[y == 1])\n",
    "y_green = np.array(y[y == 1])\n",
    "tree = KdTree(x)\n",
    "#tree.out()\n",
    "print x[11]\n",
    "tree.find_NN(x[11])"
   ]
  },
  {
   "cell_type": "code",
   "execution_count": 150,
   "metadata": {},
   "outputs": [
    {
     "data": {
      "image/png": "[encoded data removed]",
      "text/plain": [
       "<matplotlib.figure.Figure at 0xd637780>"
      ]
     },
     "metadata": {},
     "output_type": "display_data"
    }
   ],
   "source": [
    "plt.scatter(x_red[:, 0], x_red[:, 1], c = 'red', s = 5, alpha = 0.8)\n",
    "plt.scatter(x_green[:, 0], x_green[:, 1], c = 'green', s = 5, alpha = 0.8)\n",
    "#tree.graph()\n",
    "plt.show()  "
   ]
  },
  {
   "cell_type": "code",
   "execution_count": 27,
   "metadata": {
    "collapsed": true
   },
   "outputs": [],
   "source": [
    "x_train, x_test, y_train, y_test = train_test_split(x, y, test_size = 0.3)"
   ]
  },
  {
   "cell_type": "markdown",
   "metadata": {},
   "source": [
    "1. Каким способом разделять пространство?\n",
    "2. До какого момента делить пространство?\n",
    "3. Поддерживает ли дерево добавление/удаление точек?\n",
    "4. \"попробуйте разные k\" ? (точки же двумерные)"
   ]
  }
 ],
 "metadata": {
  "kernelspec": {
   "display_name": "Python 2",
   "language": "python",
   "name": "python2"
  },
  "language_info": {
   "codemirror_mode": {
    "name": "ipython",
    "version": 2
   },
   "file_extension": ".py",
   "mimetype": "text/x-python",
   "name": "python",
   "nbconvert_exporter": "python",
   "pygments_lexer": "ipython2",
   "version": "2.7.14"
  }
 },
 "nbformat": 4,
 "nbformat_minor": 2
}
