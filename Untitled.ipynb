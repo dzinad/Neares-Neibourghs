{
 "cells": [
  {
   "cell_type": "code",
   "execution_count": 106,
   "metadata": {
    "collapsed": true
   },
   "outputs": [],
   "source": [
    "import numpy as np\n",
    "from numpy import linalg as la\n",
    "import sklearn\n",
    "from sklearn import datasets\n",
    "from sklearn.cross_validation import train_test_split\n",
    "import matplotlib.pyplot as plt\n",
    "import matplotlib.patches as patches"
   ]
  },
  {
   "cell_type": "code",
   "execution_count": 441,
   "metadata": {
    "collapsed": true
   },
   "outputs": [],
   "source": [
    "class TopKeeper(object):\n",
    "    \"\"\"docstring\"\"\"\n",
    "    \n",
    "    def __init__(self, m, p):\n",
    "        \"\"\"Constructor\"\"\"\n",
    "        self.data = []\n",
    "        self.m = m\n",
    "        self.point = p\n",
    "        \n",
    "    def compare(self, x, y):\n",
    "        if la.norm(x[:-1] - self.point) == la.norm(y[:-1] - self.point):\n",
    "            return 0\n",
    "        if la.norm(x[:-1] - self.point) < la.norm(y[:-1] - self.point):\n",
    "            return 1\n",
    "        return -1\n",
    "        \n",
    "    def get_max_dist(self):\n",
    "        return la.norm(self.point - self.data[0][:-1])\n",
    "    \n",
    "    def offer(self, item):\n",
    "        if len(self.data) < self.m:\n",
    "            self.data.append(item)\n",
    "            self.data = sorted(self.data, cmp = lambda x, y: self.compare(x, y))\n",
    "            return\n",
    "        dist = la.norm(item[:-1] - self.point)\n",
    "        if dist < la.norm(self.data[0][:-1] - self.point):\n",
    "            self.data[0] = item\n",
    "            self.data = sorted(self.data, cmp = lambda x, y: self.compare(x, y))       \n",
    "            \n",
    "    def out(self):\n",
    "        print self.data"
   ]
  },
  {
   "cell_type": "code",
   "execution_count": 484,
   "metadata": {},
   "outputs": [],
   "source": [
    "class KdTree(object):\n",
    "    \"\"\"docstring\"\"\"\n",
    " \n",
    "    class KdNode(object):\n",
    "        \"\"\"docstring\"\"\"\n",
    "    \n",
    "        def __init__(self, bounding):\n",
    "            \"\"\"Constructor\"\"\"\n",
    "            self.left = None\n",
    "            self.right = None\n",
    "            self.bounding = bounding\n",
    "            self.is_leaf = False\n",
    "            self.points = []\n",
    "            \n",
    "        def add_left_child(self, l):\n",
    "            self.left = l\n",
    "            \n",
    "        def add_right_child(self, r):\n",
    "            self.right = r\n",
    "            \n",
    "        def add_points(self, p):\n",
    "            self.is_leaf = True\n",
    "            self.points = np.array(p).reshape(len(p), -1)\n",
    "                                    \n",
    "        def out(self):\n",
    "            if (self.left is None) & (self.right is None):\n",
    "                print 'leave'\n",
    "                print self.bounding\n",
    "                print self.points\n",
    "                return\n",
    "            if self.left is not None:\n",
    "                print self.left.out()\n",
    "            if self.right is not None:\n",
    "                print self.right.out()\n",
    "\n",
    "    def __init__(self, points, marks, max_in_leaf = 8):\n",
    "        \"\"\"Constructor\"\"\"\n",
    "        points = np.array(points).reshape(len(points), -1)\n",
    "        marks = np.array(marks).reshape(len(marks), 1)\n",
    "        self.k = points.shape[1]\n",
    "        points = np.hstack((points, marks))\n",
    "        self.max_in_leaf = max_in_leaf\n",
    "        bounds = []\n",
    "        for i in xrange (0, self.k):\n",
    "            bounds.append(np.amin(points[:, i]))\n",
    "            bounds.append(np.amax(points[:, i]))\n",
    "        self.root = self.KdNode(bounds)\n",
    "        self.root = self.add_children(self.root, points, 0)\n",
    "        \n",
    "    def compare(self, item1, item2, index):\n",
    "        if item2[index] == item1[index]:\n",
    "            return 0\n",
    "        if item1[index] < item2[index]:\n",
    "            return -1\n",
    "        return 1\n",
    "        \n",
    "    def add_children(self, node, points, axis):\n",
    "        if len(points) <= self.max_in_leaf:\n",
    "            node.add_points(points)\n",
    "            return node\n",
    "            \n",
    "        else:\n",
    "            points = np.array(sorted(points, cmp = lambda x, y: self.compare(x, y, axis)))\n",
    "            middle = len(points) / 2\n",
    "            bounds_left = []\n",
    "            bounds_right = []\n",
    "            for i in range (0, self.k):\n",
    "                if axis == i:\n",
    "                    m = (np.amax(points[:middle, i]) + np.amin(points[middle:, i])) / 2\n",
    "                    bounds_left.append(node.bounding[2 * i])\n",
    "                    bounds_left.append(m)\n",
    "                    bounds_right.append(m)\n",
    "                    bounds_right.append(node.bounding[2 * i + 1])\n",
    "                else:\n",
    "                    bounds_left.append(node.bounding[2 * i])\n",
    "                    bounds_left.append(node.bounding[2 * i + 1])\n",
    "                    bounds_right.append(node.bounding[2 * i])\n",
    "                    bounds_right.append(node.bounding[2 * i + 1])\n",
    "\n",
    "            left = self.KdNode(bounds_left)\n",
    "            right = self.KdNode(bounds_right)\n",
    "            \n",
    "            if axis >= self.k - 1:\n",
    "                axis = 0\n",
    "            else:\n",
    "                axis = axis + 1\n",
    "            left = self.add_children(left, points[:middle], axis)\n",
    "            right = self.add_children(right, points[middle:], axis)\n",
    "            node.add_left_child(left)\n",
    "            node.add_right_child(right)\n",
    "            return node\n",
    "      \n",
    "    def distance_from_point_to_rect(self, point, bounds):\n",
    "        #only 2d\n",
    "        for i in xrange(0, len(point)):\n",
    "            if (point[i] >= bounds[2 * i]) & (point[i] <= bounds[2 * i + 1]):\n",
    "                j = 1 - i;\n",
    "                return np.minimum(abs(point[j] - bounds[2 * j]), abs(point[j] - bounds[2 * j + 1]))\n",
    "        d = []\n",
    "        for i in xrange(0, len(point)):\n",
    "            d.append(np.minimum(abs(point[i] - bounds[2 * i]), abs(point[i] - bounds[2 * i + 1])))\n",
    "        return la.norm(d)\n",
    "    \n",
    "    def handle_branch(self, point, cur_node):\n",
    "        if self.distance_from_point_to_rect(point, cur_node.bounding) > self.NN.get_max_dist():\n",
    "            return\n",
    "        if cur_node.is_leaf == True:\n",
    "            for i in xrange (0, cur_node.points.shape[0]):\n",
    "                self.NN.offer(cur_node.points[i])\n",
    "            return\n",
    "        if cur_node.left is not None:\n",
    "            self.handle_branch(point, cur_node.left)\n",
    "        if cur_node.right is not None:\n",
    "            self.handle_branch(point, cur_node.right)\n",
    "        \n",
    "        \n",
    "    def find_NN(self, point, neibs = 1):\n",
    "        cur_node = self.root\n",
    "        axis = 0\n",
    "        stack = []\n",
    "        while cur_node.is_leaf == False:\n",
    "            if cur_node.left.bounding[2 * axis + 1] >= point[axis]:\n",
    "                stack.append(cur_node.right)\n",
    "                cur_node = cur_node.left\n",
    "            else:\n",
    "                stack.append(cur_node.left)\n",
    "                cur_node = cur_node.right\n",
    "            if axis >= self.k - 1:\n",
    "                axis = 0\n",
    "            else:\n",
    "                axis = axis + 1\n",
    "                \n",
    "        #cur_node - искомый лист\n",
    "        self.NN = TopKeeper(neibs, point)\n",
    "        for i in xrange (0, cur_node.points.shape[0]):\n",
    "            self.NN.offer(cur_node.points[i])\n",
    "\n",
    "        while (len(stack) > 0):\n",
    "            cur_node = stack.pop()\n",
    "            if cur_node is not None:\n",
    "                self.handle_branch(point, cur_node)\n",
    "        return self.NN.data\n",
    "                \n",
    "    def out(self):\n",
    "        self.root.out()"
   ]
  },
  {
   "cell_type": "code",
   "execution_count": 528,
   "metadata": {
    "collapsed": true
   },
   "outputs": [],
   "source": [
    "from sklearn.neighbors import KNeighborsClassifier\n",
    "from sklearn.neighbors import NearestNeighbors\n",
    "\n",
    "class DKNNClassifier(object):\n",
    "    \"\"\"docstring\"\"\"\n",
    "    \n",
    "    def __init__(self):\n",
    "        self.tree = None\n",
    "        \n",
    "    def fit(self, x, y):\n",
    "        self.tree = KdTree(x, y)\n",
    "        \n",
    "        \n",
    "    def predict(self, points, k = 1):\n",
    "        res = []\n",
    "        if len(points) == 0:\n",
    "            return res\n",
    "        mark_index = len(points[0]) - 1\n",
    "        for i in xrange(0, len(points)):\n",
    "            arr = np.array(self.tree.find_NN(points[i], k))\n",
    "            arr = arr[:, -1]\n",
    "            if len(arr[arr == 1]) >= len(arr[arr == 0]):\n",
    "                res.append(1)\n",
    "            else:\n",
    "                res.append(0)\n",
    "        return res"
   ]
  },
  {
   "cell_type": "code",
   "execution_count": 453,
   "metadata": {},
   "outputs": [
    {
     "name": "stdout",
     "output_type": "stream",
     "text": [
      "[5]\n"
     ]
    }
   ],
   "source": [
    "arr = [1, 2, 3, 4, 5]\n",
    "print arr[-1:]"
   ]
  },
  {
   "cell_type": "code",
   "execution_count": 489,
   "metadata": {},
   "outputs": [],
   "source": [
    "points_num = 100\n",
    "noise_value = 0.0\n",
    "x, y = sklearn.datasets.make_circles(points_num, noise = noise_value)\n",
    "x_red = np.array(x[y == 0])\n",
    "y_red = np.array(y[y == 0])\n",
    "x_green = np.array(x[y == 1])\n",
    "y_green = np.array(y[y == 1])\n"
   ]
  },
  {
   "cell_type": "code",
   "execution_count": 514,
   "metadata": {},
   "outputs": [
    {
     "name": "stdout",
     "output_type": "stream",
     "text": [
      "[0.5741862616648323, 0.8283760007974027]\n"
     ]
    },
    {
     "data": {
      "text/plain": [
       "[array([ 0.72896863,  0.68454711,  0.        ]),\n",
       " array([ 0.42866144,  0.67546234,  1.        ]),\n",
       " array([ 0.42577929,  0.90482705,  0.        ]),\n",
       " array([ 0.63742399,  0.77051324,  0.        ]),\n",
       " array([ 0.53582679,  0.84432793,  0.        ])]"
      ]
     },
     "execution_count": 514,
     "metadata": {},
     "output_type": "execute_result"
    }
   ],
   "source": [
    "tree = KdTree(x, y)\n",
    "#tree.out()\n",
    "p = [np.random.rand(), np.random.rand()]\n",
    "print p\n",
    "tree.find_NN(p, 5)"
   ]
  },
  {
   "cell_type": "code",
   "execution_count": 527,
   "metadata": {},
   "outputs": [
    {
     "name": "stdout",
     "output_type": "stream",
     "text": [
      "[ 0.]\n",
      "[ 0.]\n",
      "[ 0.]\n",
      "[ 0.]\n",
      "[ 1.]\n",
      "[ 0.]\n",
      "[ 0.]\n",
      "[ 1.]\n",
      "[ 1.]\n",
      "[ 0.]\n",
      "[ 1.]\n",
      "[ 1.]\n",
      "[ 0.]\n",
      "[ 0.]\n",
      "[ 0.]\n",
      "[ 1.]\n",
      "[ 0.]\n",
      "[ 1.]\n",
      "[ 1.]\n",
      "[ 0.]\n",
      "[ 0.]\n",
      "[ 1.]\n",
      "[ 1.]\n",
      "[ 0.]\n",
      "[ 1.]\n",
      "[ 1.]\n",
      "[ 0.]\n",
      "[ 1.]\n",
      "[ 1.]\n",
      "[ 1.]\n",
      "is my result equal to expected:\n",
      "0.933333333333\n"
     ]
    }
   ],
   "source": [
    "x_train, x_test, y_train, y_test = train_test_split(x, y, test_size = 0.3)\n",
    "cl1 = DKNNClassifier()\n",
    "cl1.fit(x_train, y_train)\n",
    "test1 = cl1.predict(x_test)\n",
    "compare = np.array(test1) == np.array(y_test)\n",
    "right = 1. / len(x_test) * np.sum(compare)\n",
    "print 'is my result equal to expected:'\n",
    "print right"
   ]
  },
  {
   "cell_type": "code",
   "execution_count": 472,
   "metadata": {},
   "outputs": [
    {
     "name": "stdout",
     "output_type": "stream",
     "text": [
      "[[[ 0.2654802   0.75008914]\n",
      "  [ 0.13023915  0.76465245]\n",
      "  [ 0.31588621  0.95446738]\n",
      "  [ 0.34685268  0.7261827 ]\n",
      "  [ 0.19843682  0.98326835]]]\n"
     ]
    }
   ],
   "source": [
    "from sklearn.neighbors import KNeighborsClassifier\n",
    "from sklearn.neighbors import NearestNeighbors\n",
    "neigh = NearestNeighbors(n_neighbors = 5)\n",
    "neigh.fit(x)\n",
    "dist, ind = neigh.kneighbors([p], 5)\n",
    "print x[ind]"
   ]
  },
  {
   "cell_type": "code",
   "execution_count": 358,
   "metadata": {},
   "outputs": [
    {
     "data": {
      "image/png": "[encoded data removed]",
      "text/plain": [
       "<matplotlib.figure.Figure at 0xccfd898>"
      ]
     },
     "metadata": {},
     "output_type": "display_data"
    }
   ],
   "source": [
    "plt.scatter(x_red[:, 0], x_red[:, 1], c = 'red', s = 5, alpha = 0.8)\n",
    "plt.scatter(x_green[:, 0], x_green[:, 1], c = 'green', s = 5, alpha = 0.8)\n",
    "#tree.graph()\n",
    "plt.show()  "
   ]
  },
  {
   "cell_type": "code",
   "execution_count": 27,
   "metadata": {
    "collapsed": true
   },
   "outputs": [],
   "source": []
  },
  {
   "cell_type": "markdown",
   "metadata": {},
   "source": [
    "1. Каким способом разделять пространство?\n",
    "2. До какого момента делить пространство?\n",
    "3. Поддерживает ли дерево добавление/удаление точек?\n",
    "4. \"попробуйте разные k\" ? (точки же двумерные)"
   ]
  }
 ],
 "metadata": {
  "kernelspec": {
   "display_name": "Python 2",
   "language": "python",
   "name": "python2"
  },
  "language_info": {
   "codemirror_mode": {
    "name": "ipython",
    "version": 2
   },
   "file_extension": ".py",
   "mimetype": "text/x-python",
   "name": "python",
   "nbconvert_exporter": "python",
   "pygments_lexer": "ipython2",
   "version": "2.7.14"
  }
 },
 "nbformat": 4,
 "nbformat_minor": 2
}
