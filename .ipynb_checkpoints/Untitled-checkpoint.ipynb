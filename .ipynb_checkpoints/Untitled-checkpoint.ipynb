{
 "cells": [
  {
   "cell_type": "code",
   "execution_count": 19,
   "metadata": {
    "collapsed": true
   },
   "outputs": [],
   "source": [
    "import numpy as np\n",
    "from numpy import linalg as la\n",
    "import sklearn\n",
    "from sklearn import datasets\n",
    "from sklearn.cross_validation import train_test_split\n",
    "import matplotlib.pyplot as plt"
   ]
  },
  {
   "cell_type": "code",
   "execution_count": 81,
   "metadata": {},
   "outputs": [],
   "source": [
    "class KdTree(object):\n",
    "    \"\"\"docstring\"\"\"\n",
    " \n",
    "    class KdNode(object):\n",
    "        \"\"\"docstring\"\"\"\n",
    "    \n",
    "        def __init__(self, bounding):\n",
    "            \"\"\"Constructor\"\"\"\n",
    "            self.left = None\n",
    "            self.right = None\n",
    "            self.bounding = bounding\n",
    "            self.is_leaf = False\n",
    "            self.points = []\n",
    "\n",
    "            \n",
    "        def add_left_child(self, l):\n",
    "            self.left = l\n",
    "            \n",
    "        def add_right_child(self, r):\n",
    "            self.right = r\n",
    "            \n",
    "        def add_points(self, p):\n",
    "            self.is_leaf = True\n",
    "            self.points = np.array(p).reshape(len(p), -1)\n",
    "            \n",
    "        def out(self):\n",
    "            if (self.left is None) & (self.right is None):\n",
    "                print 'leave'\n",
    "                print self.bounding\n",
    "                print self.points\n",
    "                return\n",
    "            print ('bounds', self.bounding)\n",
    "            if self.left is not None:\n",
    "                print self.left.bounding\n",
    "            if self.right is not None:\n",
    "                print self.right.bounding\n",
    "\n",
    "    def __init__(self, points, max_in_leaf = 4):\n",
    "        \"\"\"Constructor\"\"\"\n",
    "        points = np.array(points).reshape(len(points), -1)\n",
    "        self.k = points.shape[1]\n",
    "        self.max_in_leaf = max_in_leaf\n",
    "        bounds = []\n",
    "        for i in range (0, self.k):\n",
    "            bounds.append(np.amin(points[:, i]))\n",
    "            bounds.append(np.amax(points[:, i]))\n",
    "        self.root = self.KdNode(bounds)\n",
    "        self.root = self.add_children(self.root, points, 0)\n",
    "        \n",
    "    def compare(self, item1, item2, index):\n",
    "        if item2[index] == item1[index]:\n",
    "            return 0\n",
    "        if item1[index] < item2[index]:\n",
    "            return 1\n",
    "        return -1\n",
    "        \n",
    "    def add_children(self, node, points, axis):\n",
    "        if len(points) <= self.max_in_leaf:\n",
    "            node.add_points(points)\n",
    "            return node\n",
    "            \n",
    "        else:\n",
    "            points = np.array(sorted(points, cmp = lambda x, y: self.compare(x, y, axis)))\n",
    "            middle = len(points) / 2\n",
    "            bounds_left = []\n",
    "            bounds_right = []\n",
    "            for i in range (0, self.k):\n",
    "                bounds_left.append(np.amin(points[:middle, i]))\n",
    "                bounds_left.append(np.amax(points[:middle, i]))\n",
    "                bounds_right.append(np.amin(points[middle:, i]))\n",
    "                bounds_right.append(np.amax(points[middle:, i]))\n",
    "\n",
    "            print ('bounds_left', bounds_left)\n",
    "            print ('bounds_right', bounds_right)\n",
    "            left = self.KdNode(bounds_left)\n",
    "            right = self.KdNode(bounds_right)\n",
    "            \n",
    "            if axis >= points.shape[1] - 1:\n",
    "                axis = 0\n",
    "            else:\n",
    "                axis = axis + 1\n",
    "            left = self.add_children(left, points[:middle], axis)\n",
    "            right = self.add_children(right, points[middle:], axis)\n",
    "            node.add_left_child(left)\n",
    "            node.add_right_child(right)\n",
    "            return node\n",
    "        \n",
    "    def find_NN(self, point):\n",
    "        cur_node = self.root\n",
    "        axis = 0\n",
    "        while cur_node.is_leaf == False:\n",
    "            print \"point\"\n",
    "            print point\n",
    "            print \"seraching\"\n",
    "            cur_node.out()\n",
    "            print (cur_node.left.bounding[2 * axis + 1], point[axis])\n",
    "            print (cur_node.right.bounding[2 * axis], point[axis])\n",
    "            if cur_node.left.bounding[2 * axis + 1] >= point[axis]:\n",
    "                cur_node = cur_node.left\n",
    "            elif cur_node.right.bounding[2 * axis] <= point[axis]:\n",
    "                cur_node = cur_node.right\n",
    "            else:\n",
    "                return\n",
    "            if axis >= self.k - 1:\n",
    "                axis = 0\n",
    "            else:\n",
    "                axis = axis + 1\n",
    "                \n",
    "        #cur_node - искомый лист\n",
    "        cur_node.out()\n",
    "        self.min_dist = -1\n",
    "        self.NN = None\n",
    "        cur_dist = -1\n",
    "        for i in range (0, cur_node.points.shape[0]):\n",
    "            cur_dist = la.norm(point - cur_node.points[i])\n",
    "            if (self.min_dist == -1) | ((self.min_dist > cur_dist) & (cur_dist != 0)):\n",
    "                min_dist = cur_dist\n",
    "                self.NN = cur_node.points[i]\n",
    "        \n",
    "        print \"NN:\"\n",
    "        print self.NN\n",
    "        \n",
    "    def out(self):\n",
    "        self.root.out()"
   ]
  },
  {
   "cell_type": "code",
   "execution_count": 16,
   "metadata": {},
   "outputs": [
    {
     "name": "stdout",
     "output_type": "stream",
     "text": [
      "35\n",
      "0\n",
      "1\n"
     ]
    }
   ],
   "source": [
    "arr = np.array([[44, 99], [21, 88], [32, 54], [77, 35]])\n",
    "print np.amin(arr[:, 1])\n",
    "for i in range (0, 2):\n",
    "    print i"
   ]
  },
  {
   "cell_type": "code",
   "execution_count": 82,
   "metadata": {},
   "outputs": [
    {
     "name": "stdout",
     "output_type": "stream",
     "text": [
      "('bounds', [-1.072918001188204, 1.1517859545374145, -1.0611379390735312, 1.057074598844437])\n",
      "[0.048753309531367174, 1.1517859545374145, -0.95644743668480448, 1.057074598844437]\n",
      "[-1.072918001188204, -0.021517838869280381, -1.0611379390735312, 1.0126118200595968]\n"
     ]
    }
   ],
   "source": [
    "points_num = 50\n",
    "noise_value = 0.09\n",
    "x, y = sklearn.datasets.make_circles(points_num, noise = noise_value)\n",
    "x_red = np.array(x[y == 0])\n",
    "y_red = np.array(y[y == 0])\n",
    "x_green = np.array(x[y == 1])\n",
    "y_green = np.array(y[y == 1])\n",
    "tree = KdTree(x)\n",
    "tree.out()\n",
    "#print x[11]\n",
    "#tree.find_NN(x[11])"
   ]
  },
  {
   "cell_type": "code",
   "execution_count": 69,
   "metadata": {},
   "outputs": [
    {
     "data": {
      "image/png": "[encoded data removed]",
      "text/plain": [
       "<matplotlib.figure.Figure at 0xd7feeb8>"
      ]
     },
     "metadata": {},
     "output_type": "display_data"
    }
   ],
   "source": [
    "plt.scatter(x_red[:, 0], x_red[:, 1], c = 'red', s = 5, alpha = 0.8)\n",
    "plt.scatter(x_green[:, 0], x_green[:, 1], c = 'green', s = 5, alpha = 0.8)\n",
    "plt.show()  "
   ]
  },
  {
   "cell_type": "code",
   "execution_count": 27,
   "metadata": {
    "collapsed": true
   },
   "outputs": [],
   "source": [
    "x_train, x_test, y_train, y_test = train_test_split(x, y, test_size = 0.3)"
   ]
  },
  {
   "cell_type": "markdown",
   "metadata": {},
   "source": [
    "1. Каким способом разделять пространство?\n",
    "2. До какого момента делить пространство?\n",
    "3. Поддерживает ли дерево добавление/удаление точек?\n",
    "4. \"попробуйте разные k\" ? (точки же двумерные)"
   ]
  }
 ],
 "metadata": {
  "kernelspec": {
   "display_name": "Python 2",
   "language": "python",
   "name": "python2"
  },
  "language_info": {
   "codemirror_mode": {
    "name": "ipython",
    "version": 2
   },
   "file_extension": ".py",
   "mimetype": "text/x-python",
   "name": "python",
   "nbconvert_exporter": "python",
   "pygments_lexer": "ipython2",
   "version": "2.7.14"
  }
 },
 "nbformat": 4,
 "nbformat_minor": 2
}
