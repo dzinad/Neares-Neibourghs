{
 "cells": [
  {
   "cell_type": "code",
   "execution_count": 33,
   "metadata": {
    "collapsed": true
   },
   "outputs": [],
   "source": [
    "import numpy as np\n",
    "import sklearn\n",
    "from sklearn import datasets\n",
    "from sklearn.cross_validation import train_test_split\n",
    "import matplotlib.pyplot as plt"
   ]
  },
  {
   "cell_type": "code",
   "execution_count": 84,
   "metadata": {},
   "outputs": [],
   "source": [
    "class KdTree(object):\n",
    "    \"\"\"docstring\"\"\"\n",
    " \n",
    "    class KdNode(object):\n",
    "        \"\"\"docstring\"\"\"\n",
    "    \n",
    "        def __init__(self):\n",
    "            \"\"\"Constructor\"\"\"\n",
    "            self.left = None\n",
    "            self.right = None\n",
    "            self.points = []\n",
    "\n",
    "            \n",
    "        def add_left_child(self, l):\n",
    "            self.left = l\n",
    "            \n",
    "        def add_right_child(self, r):\n",
    "            self.right = r\n",
    "            \n",
    "        def add_points(self, p):\n",
    "            self.points.append(p[:])\n",
    "            \n",
    "        def out(self):\n",
    "            if (self.left is None) & (self.right is None):\n",
    "                print 'leave'\n",
    "                print self.points\n",
    "                return\n",
    "            if self.left is not None:\n",
    "                self.left.out()\n",
    "            if self.right is not None:\n",
    "                self.right.out()\n",
    "\n",
    "    def __init__(self, points, max_in_leaf = 4):\n",
    "        \"\"\"Constructor\"\"\"\n",
    "        points = np.array(points).reshape(len(points), -1)\n",
    "        self.k = points.shape[1]\n",
    "        self.max_in_leaf = max_in_leaf\n",
    "        self.root = self.KdNode()\n",
    "        self.root = self.add_children(self.root, points, 0)\n",
    "        \n",
    "    def compare(self, item1, item2, index):\n",
    "        if item2[index] == item1[index]:\n",
    "            return 0\n",
    "        if item1[index] < item2[index]:\n",
    "            return 1\n",
    "        return -1\n",
    "        \n",
    "    def add_children(self, node, points, axis):\n",
    "        #print 'adding children'\n",
    "        #print len(points)\n",
    "        if len(points) <= self.max_in_leaf:\n",
    "            node.add_points(points)\n",
    "            return node\n",
    "            \n",
    "        else:\n",
    "            print (len(points), axis)\n",
    "            points = np.array(sorted(points, cmp = lambda x, y: self.compare(x, y, axis)))\n",
    "            middle = len(points) / 2\n",
    "            left = self.KdNode()\n",
    "            right = self.KdNode()\n",
    "            if axis >= points.shape[1] - 1:\n",
    "                axis = 0\n",
    "            else:\n",
    "                axis = axis + 1\n",
    "            left = self.add_children(left, points[:middle], axis)\n",
    "            right = self.add_children(right, points[middle:], axis)\n",
    "            node.add_left_child(left)\n",
    "            node.add_right_child(right)\n",
    "            return node\n",
    "        \n",
    "    def out(self):\n",
    "        self.root.out()"
   ]
  },
  {
   "cell_type": "code",
   "execution_count": 55,
   "metadata": {},
   "outputs": [],
   "source": [
    "tree = KdTree([[1, 2], [3, 4]])"
   ]
  },
  {
   "cell_type": "code",
   "execution_count": 85,
   "metadata": {},
   "outputs": [
    {
     "name": "stdout",
     "output_type": "stream",
     "text": [
      "[[-0.66087254 -0.57575797]\n",
      " [ 0.79867565 -0.08286135]\n",
      " [ 0.2625925   1.01128115]\n",
      " [ 0.35468494  0.88078913]\n",
      " [ 0.33500505 -0.71264426]\n",
      " [ 0.45860312 -0.92584986]\n",
      " [ 1.1002451   0.08407942]\n",
      " [-0.62530384  0.60567632]\n",
      " [-0.53660461  0.37461953]\n",
      " [-0.78000311 -0.74734735]]\n",
      "building tree\n",
      "(10, 0)\n",
      "(5, 1)\n",
      "(5, 1)\n",
      "leave\n",
      "[array([[ 0.35468494,  0.88078913],\n",
      "       [ 1.1002451 ,  0.08407942]])]\n",
      "leave\n",
      "[array([[ 0.79867565, -0.08286135],\n",
      "       [ 0.33500505, -0.71264426],\n",
      "       [ 0.45860312, -0.92584986]])]\n",
      "leave\n",
      "[array([[ 0.2625925 ,  1.01128115],\n",
      "       [-0.62530384,  0.60567632]])]\n",
      "leave\n",
      "[array([[-0.53660461,  0.37461953],\n",
      "       [-0.66087254, -0.57575797],\n",
      "       [-0.78000311, -0.74734735]])]\n"
     ]
    }
   ],
   "source": [
    "points_num = 10\n",
    "noise_value = 0.09\n",
    "x, y = sklearn.datasets.make_circles(points_num, noise = noise_value)\n",
    "x_red = np.array(x[y == 0])\n",
    "y_red = np.array(y[y == 0])\n",
    "x_green = np.array(x[y == 1])\n",
    "y_green = np.array(y[y == 1])\n",
    "print x\n",
    "print 'building tree'\n",
    "tree = KdTree(x)\n",
    "tree.out()"
   ]
  },
  {
   "cell_type": "code",
   "execution_count": 86,
   "metadata": {},
   "outputs": [
    {
     "data": {
      "image/png": "[encoded data removed]",
      "text/plain": [
       "<matplotlib.figure.Figure at 0x8400978>"
      ]
     },
     "metadata": {},
     "output_type": "display_data"
    }
   ],
   "source": [
    "plt.scatter(x_red[:, 0], x_red[:, 1], c = 'red', s = 5, alpha = 0.8)\n",
    "plt.scatter(x_green[:, 0], x_green[:, 1], c = 'green', s = 5, alpha = 0.8)\n",
    "plt.show()  "
   ]
  },
  {
   "cell_type": "code",
   "execution_count": 27,
   "metadata": {
    "collapsed": true
   },
   "outputs": [],
   "source": [
    "x_train, x_test, y_train, y_test = train_test_split(x, y, test_size = 0.3)"
   ]
  },
  {
   "cell_type": "markdown",
   "metadata": {},
   "source": [
    "1. Каким способом разделять пространство?\n",
    "2. До какого момента делить пространство?\n",
    "3. Поддерживает ли дерево добавление/удаление точек?\n",
    "4. \"попробуйте разные k\" ? (точки же двумерные)"
   ]
  }
 ],
 "metadata": {
  "kernelspec": {
   "display_name": "Python 2",
   "language": "python",
   "name": "python2"
  },
  "language_info": {
   "codemirror_mode": {
    "name": "ipython",
    "version": 2
   },
   "file_extension": ".py",
   "mimetype": "text/x-python",
   "name": "python",
   "nbconvert_exporter": "python",
   "pygments_lexer": "ipython2",
   "version": "2.7.14"
  }
 },
 "nbformat": 4,
 "nbformat_minor": 2
}
